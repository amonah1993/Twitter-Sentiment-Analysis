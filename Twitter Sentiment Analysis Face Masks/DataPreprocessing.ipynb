{
 "cells": [
  {
   "cell_type": "code",
   "execution_count": 1,
   "id": "e2bf5114",
   "metadata": {},
   "outputs": [],
   "source": [
    "# importing libraries \n",
    "import pandas as pd\n",
    "import numpy as np\n",
    "import os\n",
    "import re\n",
    "import string\n",
    "import nltk\n",
    "from nltk.corpus import stopwords\n",
    "from nltk.stem import WordNetLemmatizer\n",
    "import re\n",
    "import warnings\n",
    "warnings.filterwarnings(\"ignore\")"
   ]
  },
  {
   "cell_type": "code",
   "execution_count": 2,
   "id": "92225324",
   "metadata": {},
   "outputs": [],
   "source": [
    "# loading the testing and training datasets\n",
    "CovidMask1=pd.read_csv('CovidMaskPeriod1Raw.csv')\n",
    "CovidMask2=pd.read_csv('CovidMaskPeriod2Raw.csv')\n",
    "CovidMaskHydrated=pd.read_csv('CovidMaskTrainingDatasetRaw.csv')"
   ]
  },
  {
   "cell_type": "code",
   "execution_count": 5,
   "id": "c0144681",
   "metadata": {},
   "outputs": [
    {
     "data": {
      "text/plain": [
       "(6292091, 36)"
      ]
     },
     "execution_count": 5,
     "metadata": {},
     "output_type": "execute_result"
    }
   ],
   "source": [
    "CovidMaskHydrated.shape"
   ]
  },
  {
   "cell_type": "code",
   "execution_count": 3,
   "id": "cd28500f",
   "metadata": {},
   "outputs": [
    {
     "data": {
      "text/plain": [
       "(1753215, 11)"
      ]
     },
     "execution_count": 3,
     "metadata": {},
     "output_type": "execute_result"
    }
   ],
   "source": [
    "CovidMask1.shape"
   ]
  },
  {
   "cell_type": "code",
   "execution_count": 4,
   "id": "e1fb0b28",
   "metadata": {},
   "outputs": [
    {
     "data": {
      "text/plain": [
       "(1095292, 11)"
      ]
     },
     "execution_count": 4,
     "metadata": {},
     "output_type": "execute_result"
    }
   ],
   "source": [
    "CovidMask2.shape"
   ]
  },
  {
   "cell_type": "code",
   "execution_count": 6,
   "id": "dac59071",
   "metadata": {},
   "outputs": [
    {
     "data": {
      "text/html": [
       "<div>\n",
       "<style scoped>\n",
       "    .dataframe tbody tr th:only-of-type {\n",
       "        vertical-align: middle;\n",
       "    }\n",
       "\n",
       "    .dataframe tbody tr th {\n",
       "        vertical-align: top;\n",
       "    }\n",
       "\n",
       "    .dataframe thead th {\n",
       "        text-align: right;\n",
       "    }\n",
       "</style>\n",
       "<table border=\"1\" class=\"dataframe\">\n",
       "  <thead>\n",
       "    <tr style=\"text-align: right;\">\n",
       "      <th></th>\n",
       "      <th>coordinates</th>\n",
       "      <th>created_at</th>\n",
       "      <th>hashtags</th>\n",
       "      <th>media</th>\n",
       "      <th>urls</th>\n",
       "      <th>favorite_count</th>\n",
       "      <th>id</th>\n",
       "      <th>in_reply_to_screen_name</th>\n",
       "      <th>in_reply_to_status_id</th>\n",
       "      <th>in_reply_to_user_id</th>\n",
       "      <th>...</th>\n",
       "      <th>user_friends_count</th>\n",
       "      <th>user_listed_count</th>\n",
       "      <th>user_location</th>\n",
       "      <th>user_name</th>\n",
       "      <th>user_screen_name</th>\n",
       "      <th>user_statuses_count</th>\n",
       "      <th>user_time_zone</th>\n",
       "      <th>user_urls</th>\n",
       "      <th>user_verified</th>\n",
       "      <th>Sentiment</th>\n",
       "    </tr>\n",
       "  </thead>\n",
       "  <tbody>\n",
       "    <tr>\n",
       "      <th>0</th>\n",
       "      <td>NaN</td>\n",
       "      <td>Tue Jun 30 04:25:57 +0000 2020</td>\n",
       "      <td>NaN</td>\n",
       "      <td>NaN</td>\n",
       "      <td>NaN</td>\n",
       "      <td>0</td>\n",
       "      <td>1277820648123969536</td>\n",
       "      <td>NaN</td>\n",
       "      <td>NaN</td>\n",
       "      <td>NaN</td>\n",
       "      <td>...</td>\n",
       "      <td>47.0</td>\n",
       "      <td>0.0</td>\n",
       "      <td>Panama City Beach, FL</td>\n",
       "      <td>Andrew Brissette</td>\n",
       "      <td>abrissette94</td>\n",
       "      <td>60.0</td>\n",
       "      <td>NaN</td>\n",
       "      <td>NaN</td>\n",
       "      <td>False</td>\n",
       "      <td>0.107143</td>\n",
       "    </tr>\n",
       "    <tr>\n",
       "      <th>1</th>\n",
       "      <td>NaN</td>\n",
       "      <td>Tue Jun 30 04:25:57 +0000 2020</td>\n",
       "      <td>NaN</td>\n",
       "      <td>NaN</td>\n",
       "      <td>https://twitter.com/benandjerrys/status/127728...</td>\n",
       "      <td>2</td>\n",
       "      <td>1277820645041147904</td>\n",
       "      <td>NaN</td>\n",
       "      <td>NaN</td>\n",
       "      <td>NaN</td>\n",
       "      <td>...</td>\n",
       "      <td>365.0</td>\n",
       "      <td>0.0</td>\n",
       "      <td>NaN</td>\n",
       "      <td>Christa Squire</td>\n",
       "      <td>Christa_Vi</td>\n",
       "      <td>4460.0</td>\n",
       "      <td>NaN</td>\n",
       "      <td>NaN</td>\n",
       "      <td>False</td>\n",
       "      <td>0.000000</td>\n",
       "    </tr>\n",
       "    <tr>\n",
       "      <th>2</th>\n",
       "      <td>NaN</td>\n",
       "      <td>Tue Jun 30 04:25:58 +0000 2020</td>\n",
       "      <td>NaN</td>\n",
       "      <td>NaN</td>\n",
       "      <td>https://twitter.com/i/events/1277716877960073216</td>\n",
       "      <td>0</td>\n",
       "      <td>1277820650783215616</td>\n",
       "      <td>NaN</td>\n",
       "      <td>NaN</td>\n",
       "      <td>NaN</td>\n",
       "      <td>...</td>\n",
       "      <td>39.0</td>\n",
       "      <td>0.0</td>\n",
       "      <td>NaN</td>\n",
       "      <td>Ali Khan</td>\n",
       "      <td>AliKhan40489666</td>\n",
       "      <td>21.0</td>\n",
       "      <td>NaN</td>\n",
       "      <td>NaN</td>\n",
       "      <td>False</td>\n",
       "      <td>0.000000</td>\n",
       "    </tr>\n",
       "    <tr>\n",
       "      <th>3</th>\n",
       "      <td>NaN</td>\n",
       "      <td>Tue Jun 30 04:25:58 +0000 2020</td>\n",
       "      <td>NaN</td>\n",
       "      <td>https://twitter.com/QuickTake/status/127768814...</td>\n",
       "      <td>NaN</td>\n",
       "      <td>0</td>\n",
       "      <td>1277820649990270976</td>\n",
       "      <td>NaN</td>\n",
       "      <td>NaN</td>\n",
       "      <td>NaN</td>\n",
       "      <td>...</td>\n",
       "      <td>963.0</td>\n",
       "      <td>1.0</td>\n",
       "      <td>San Diego, CA</td>\n",
       "      <td>Juan Gonzalez</td>\n",
       "      <td>Abc123juice</td>\n",
       "      <td>104609.0</td>\n",
       "      <td>NaN</td>\n",
       "      <td>NaN</td>\n",
       "      <td>False</td>\n",
       "      <td>-0.500000</td>\n",
       "    </tr>\n",
       "    <tr>\n",
       "      <th>4</th>\n",
       "      <td>NaN</td>\n",
       "      <td>Tue Jun 30 04:25:58 +0000 2020</td>\n",
       "      <td>NaN</td>\n",
       "      <td>NaN</td>\n",
       "      <td>NaN</td>\n",
       "      <td>0</td>\n",
       "      <td>1277820650304835584</td>\n",
       "      <td>NaN</td>\n",
       "      <td>NaN</td>\n",
       "      <td>NaN</td>\n",
       "      <td>...</td>\n",
       "      <td>462.0</td>\n",
       "      <td>0.0</td>\n",
       "      <td>ทอดไข่อยู่🍳</td>\n",
       "      <td>🪸🫧mu✿hyun</td>\n",
       "      <td>bebehyunn</td>\n",
       "      <td>429830.0</td>\n",
       "      <td>NaN</td>\n",
       "      <td>https://youtu.be/2IkoKhr6Tss</td>\n",
       "      <td>False</td>\n",
       "      <td>0.000000</td>\n",
       "    </tr>\n",
       "  </tbody>\n",
       "</table>\n",
       "<p>5 rows × 36 columns</p>\n",
       "</div>"
      ],
      "text/plain": [
       "  coordinates                      created_at hashtags  \\\n",
       "0         NaN  Tue Jun 30 04:25:57 +0000 2020      NaN   \n",
       "1         NaN  Tue Jun 30 04:25:57 +0000 2020      NaN   \n",
       "2         NaN  Tue Jun 30 04:25:58 +0000 2020      NaN   \n",
       "3         NaN  Tue Jun 30 04:25:58 +0000 2020      NaN   \n",
       "4         NaN  Tue Jun 30 04:25:58 +0000 2020      NaN   \n",
       "\n",
       "                                               media  \\\n",
       "0                                                NaN   \n",
       "1                                                NaN   \n",
       "2                                                NaN   \n",
       "3  https://twitter.com/QuickTake/status/127768814...   \n",
       "4                                                NaN   \n",
       "\n",
       "                                                urls favorite_count  \\\n",
       "0                                                NaN              0   \n",
       "1  https://twitter.com/benandjerrys/status/127728...              2   \n",
       "2   https://twitter.com/i/events/1277716877960073216              0   \n",
       "3                                                NaN              0   \n",
       "4                                                NaN              0   \n",
       "\n",
       "                    id in_reply_to_screen_name  in_reply_to_status_id  \\\n",
       "0  1277820648123969536                     NaN                    NaN   \n",
       "1  1277820645041147904                     NaN                    NaN   \n",
       "2  1277820650783215616                     NaN                    NaN   \n",
       "3  1277820649990270976                     NaN                    NaN   \n",
       "4  1277820650304835584                     NaN                    NaN   \n",
       "\n",
       "   in_reply_to_user_id  ... user_friends_count user_listed_count  \\\n",
       "0                  NaN  ...               47.0               0.0   \n",
       "1                  NaN  ...              365.0               0.0   \n",
       "2                  NaN  ...               39.0               0.0   \n",
       "3                  NaN  ...              963.0               1.0   \n",
       "4                  NaN  ...              462.0               0.0   \n",
       "\n",
       "           user_location         user_name  user_screen_name  \\\n",
       "0  Panama City Beach, FL  Andrew Brissette      abrissette94   \n",
       "1                    NaN    Christa Squire        Christa_Vi   \n",
       "2                    NaN          Ali Khan   AliKhan40489666   \n",
       "3          San Diego, CA     Juan Gonzalez       Abc123juice   \n",
       "4            ทอดไข่อยู่🍳         🪸🫧mu✿hyun         bebehyunn   \n",
       "\n",
       "  user_statuses_count user_time_zone                     user_urls  \\\n",
       "0                60.0            NaN                           NaN   \n",
       "1              4460.0            NaN                           NaN   \n",
       "2                21.0            NaN                           NaN   \n",
       "3            104609.0            NaN                           NaN   \n",
       "4            429830.0            NaN  https://youtu.be/2IkoKhr6Tss   \n",
       "\n",
       "  user_verified Sentiment  \n",
       "0         False  0.107143  \n",
       "1         False  0.000000  \n",
       "2         False  0.000000  \n",
       "3         False -0.500000  \n",
       "4         False  0.000000  \n",
       "\n",
       "[5 rows x 36 columns]"
      ]
     },
     "execution_count": 6,
     "metadata": {},
     "output_type": "execute_result"
    }
   ],
   "source": [
    "CovidMaskHydrated.head()"
   ]
  },
  {
   "cell_type": "code",
   "execution_count": 7,
   "id": "989dae00",
   "metadata": {},
   "outputs": [
    {
     "data": {
      "text/html": [
       "<div>\n",
       "<style scoped>\n",
       "    .dataframe tbody tr th:only-of-type {\n",
       "        vertical-align: middle;\n",
       "    }\n",
       "\n",
       "    .dataframe tbody tr th {\n",
       "        vertical-align: top;\n",
       "    }\n",
       "\n",
       "    .dataframe thead th {\n",
       "        text-align: right;\n",
       "    }\n",
       "</style>\n",
       "<table border=\"1\" class=\"dataframe\">\n",
       "  <thead>\n",
       "    <tr style=\"text-align: right;\">\n",
       "      <th></th>\n",
       "      <th>id</th>\n",
       "      <th>text</th>\n",
       "      <th>created_at</th>\n",
       "      <th>author_id</th>\n",
       "      <th>in_reply_to_user_id</th>\n",
       "      <th>lang</th>\n",
       "      <th>author</th>\n",
       "      <th>entities</th>\n",
       "      <th>referenced_tweets</th>\n",
       "      <th>media</th>\n",
       "      <th>geo</th>\n",
       "    </tr>\n",
       "  </thead>\n",
       "  <tbody>\n",
       "    <tr>\n",
       "      <th>0</th>\n",
       "      <td>1302033644282941440</td>\n",
       "      <td>Wear a mask or I will assault you!! (British f...</td>\n",
       "      <td>2020-09-04T23:59:46.000Z</td>\n",
       "      <td>1.447380e+08</td>\n",
       "      <td>NaN</td>\n",
       "      <td>NaN</td>\n",
       "      <td>{\"description\":\"#BreakingNews; #Politics; #Eco...</td>\n",
       "      <td>NaN</td>\n",
       "      <td>NaN</td>\n",
       "      <td>NaN</td>\n",
       "      <td>NaN</td>\n",
       "    </tr>\n",
       "    <tr>\n",
       "      <th>1</th>\n",
       "      <td>1302033508181970950</td>\n",
       "      <td>@carole_wmajors @SpeakerPelosi @a_fly_guy What...</td>\n",
       "      <td>2020-09-04T23:59:13.000Z</td>\n",
       "      <td>1.272003e+18</td>\n",
       "      <td>NaN</td>\n",
       "      <td>NaN</td>\n",
       "      <td>{\"description\":\"Wife, Mom an avid dog lover, e...</td>\n",
       "      <td>NaN</td>\n",
       "      <td>NaN</td>\n",
       "      <td>NaN</td>\n",
       "      <td>NaN</td>\n",
       "    </tr>\n",
       "    <tr>\n",
       "      <th>2</th>\n",
       "      <td>1302033485570473984</td>\n",
       "      <td>@Smeagle1845 @ChewyBB @jobennett78 @grantshapp...</td>\n",
       "      <td>2020-09-04T23:59:08.000Z</td>\n",
       "      <td>1.292251e+18</td>\n",
       "      <td>NaN</td>\n",
       "      <td>NaN</td>\n",
       "      <td>{\"description\":\"Put a mask on! Wear your mask ...</td>\n",
       "      <td>NaN</td>\n",
       "      <td>NaN</td>\n",
       "      <td>NaN</td>\n",
       "      <td>NaN</td>\n",
       "    </tr>\n",
       "    <tr>\n",
       "      <th>3</th>\n",
       "      <td>1302033412006514688</td>\n",
       "      <td>Dollarama Karen calls security: INTERVIEW with...</td>\n",
       "      <td>2020-09-04T23:58:50.000Z</td>\n",
       "      <td>1.806041e+07</td>\n",
       "      <td>NaN</td>\n",
       "      <td>NaN</td>\n",
       "      <td>{\"description\":\"\\\"The law perverted! And the p...</td>\n",
       "      <td>NaN</td>\n",
       "      <td>NaN</td>\n",
       "      <td>NaN</td>\n",
       "      <td>NaN</td>\n",
       "    </tr>\n",
       "    <tr>\n",
       "      <th>4</th>\n",
       "      <td>1302033369627320320</td>\n",
       "      <td>@SanjayFBPEUK @russglos @peterjukes @LesleyABe...</td>\n",
       "      <td>2020-09-04T23:58:40.000Z</td>\n",
       "      <td>2.529659e+09</td>\n",
       "      <td>NaN</td>\n",
       "      <td>NaN</td>\n",
       "      <td>{\"description\":\"Grim Reaper of Football Specta...</td>\n",
       "      <td>NaN</td>\n",
       "      <td>NaN</td>\n",
       "      <td>NaN</td>\n",
       "      <td>NaN</td>\n",
       "    </tr>\n",
       "  </tbody>\n",
       "</table>\n",
       "</div>"
      ],
      "text/plain": [
       "                    id                                               text  \\\n",
       "0  1302033644282941440  Wear a mask or I will assault you!! (British f...   \n",
       "1  1302033508181970950  @carole_wmajors @SpeakerPelosi @a_fly_guy What...   \n",
       "2  1302033485570473984  @Smeagle1845 @ChewyBB @jobennett78 @grantshapp...   \n",
       "3  1302033412006514688  Dollarama Karen calls security: INTERVIEW with...   \n",
       "4  1302033369627320320  @SanjayFBPEUK @russglos @peterjukes @LesleyABe...   \n",
       "\n",
       "                 created_at     author_id  in_reply_to_user_id lang  \\\n",
       "0  2020-09-04T23:59:46.000Z  1.447380e+08                  NaN  NaN   \n",
       "1  2020-09-04T23:59:13.000Z  1.272003e+18                  NaN  NaN   \n",
       "2  2020-09-04T23:59:08.000Z  1.292251e+18                  NaN  NaN   \n",
       "3  2020-09-04T23:58:50.000Z  1.806041e+07                  NaN  NaN   \n",
       "4  2020-09-04T23:58:40.000Z  2.529659e+09                  NaN  NaN   \n",
       "\n",
       "                                              author  entities  \\\n",
       "0  {\"description\":\"#BreakingNews; #Politics; #Eco...       NaN   \n",
       "1  {\"description\":\"Wife, Mom an avid dog lover, e...       NaN   \n",
       "2  {\"description\":\"Put a mask on! Wear your mask ...       NaN   \n",
       "3  {\"description\":\"\\\"The law perverted! And the p...       NaN   \n",
       "4  {\"description\":\"Grim Reaper of Football Specta...       NaN   \n",
       "\n",
       "   referenced_tweets media  geo  \n",
       "0                NaN   NaN  NaN  \n",
       "1                NaN   NaN  NaN  \n",
       "2                NaN   NaN  NaN  \n",
       "3                NaN   NaN  NaN  \n",
       "4                NaN   NaN  NaN  "
      ]
     },
     "execution_count": 7,
     "metadata": {},
     "output_type": "execute_result"
    }
   ],
   "source": [
    "CovidMask1.head()"
   ]
  },
  {
   "cell_type": "code",
   "execution_count": 8,
   "id": "7cba2f25",
   "metadata": {},
   "outputs": [
    {
     "data": {
      "text/html": [
       "<div>\n",
       "<style scoped>\n",
       "    .dataframe tbody tr th:only-of-type {\n",
       "        vertical-align: middle;\n",
       "    }\n",
       "\n",
       "    .dataframe tbody tr th {\n",
       "        vertical-align: top;\n",
       "    }\n",
       "\n",
       "    .dataframe thead th {\n",
       "        text-align: right;\n",
       "    }\n",
       "</style>\n",
       "<table border=\"1\" class=\"dataframe\">\n",
       "  <thead>\n",
       "    <tr style=\"text-align: right;\">\n",
       "      <th></th>\n",
       "      <th>id</th>\n",
       "      <th>text</th>\n",
       "      <th>created_at</th>\n",
       "      <th>author_id</th>\n",
       "      <th>in_reply_to_user_id</th>\n",
       "      <th>lang</th>\n",
       "      <th>author</th>\n",
       "      <th>entities</th>\n",
       "      <th>referenced_tweets</th>\n",
       "      <th>media</th>\n",
       "      <th>geo</th>\n",
       "    </tr>\n",
       "  </thead>\n",
       "  <tbody>\n",
       "    <tr>\n",
       "      <th>0</th>\n",
       "      <td>1434305238790459397</td>\n",
       "      <td>@nypost The Covid control measures have all fa...</td>\n",
       "      <td>2021-09-04T23:59:51.000Z</td>\n",
       "      <td>9.378446e+17</td>\n",
       "      <td>NaN</td>\n",
       "      <td>NaN</td>\n",
       "      <td>{\"id\":\"937844576672538626\",\"description\":\"A ra...</td>\n",
       "      <td>NaN</td>\n",
       "      <td>NaN</td>\n",
       "      <td>NaN</td>\n",
       "      <td>NaN</td>\n",
       "    </tr>\n",
       "    <tr>\n",
       "      <th>1</th>\n",
       "      <td>1434305195995918337</td>\n",
       "      <td>@Cornell is proof #vaccines and masking is an ...</td>\n",
       "      <td>2021-09-04T23:59:41.000Z</td>\n",
       "      <td>1.376770e+18</td>\n",
       "      <td>NaN</td>\n",
       "      <td>NaN</td>\n",
       "      <td>{\"id\":\"1376769622393819138\",\"description\":\"Γνῶ...</td>\n",
       "      <td>NaN</td>\n",
       "      <td>NaN</td>\n",
       "      <td>NaN</td>\n",
       "      <td>NaN</td>\n",
       "    </tr>\n",
       "    <tr>\n",
       "      <th>2</th>\n",
       "      <td>1434305192028086275</td>\n",
       "      <td>Fraught mask-related interactions often come a...</td>\n",
       "      <td>2021-09-04T23:59:40.000Z</td>\n",
       "      <td>1.357404e+18</td>\n",
       "      <td>NaN</td>\n",
       "      <td>NaN</td>\n",
       "      <td>{\"id\":\"1357404114901037056\",\"description\":\"Use...</td>\n",
       "      <td>NaN</td>\n",
       "      <td>NaN</td>\n",
       "      <td>NaN</td>\n",
       "      <td>NaN</td>\n",
       "    </tr>\n",
       "    <tr>\n",
       "      <th>3</th>\n",
       "      <td>1434305166770012161</td>\n",
       "      <td>@OccupyDemocrats The amount of kids dying from...</td>\n",
       "      <td>2021-09-04T23:59:34.000Z</td>\n",
       "      <td>1.232516e+18</td>\n",
       "      <td>NaN</td>\n",
       "      <td>NaN</td>\n",
       "      <td>{\"id\":\"1232515598573129728\",\"description\":\"Ame...</td>\n",
       "      <td>NaN</td>\n",
       "      <td>NaN</td>\n",
       "      <td>NaN</td>\n",
       "      <td>NaN</td>\n",
       "    </tr>\n",
       "    <tr>\n",
       "      <th>4</th>\n",
       "      <td>1434305150458421250</td>\n",
       "      <td>My son wears a mask when he walks to work, som...</td>\n",
       "      <td>2021-09-04T23:59:30.000Z</td>\n",
       "      <td>1.194364e+08</td>\n",
       "      <td>NaN</td>\n",
       "      <td>NaN</td>\n",
       "      <td>{\"id\":\"119436439\",\"description\":\"internet addi...</td>\n",
       "      <td>NaN</td>\n",
       "      <td>NaN</td>\n",
       "      <td>NaN</td>\n",
       "      <td>NaN</td>\n",
       "    </tr>\n",
       "  </tbody>\n",
       "</table>\n",
       "</div>"
      ],
      "text/plain": [
       "                    id                                               text  \\\n",
       "0  1434305238790459397  @nypost The Covid control measures have all fa...   \n",
       "1  1434305195995918337  @Cornell is proof #vaccines and masking is an ...   \n",
       "2  1434305192028086275  Fraught mask-related interactions often come a...   \n",
       "3  1434305166770012161  @OccupyDemocrats The amount of kids dying from...   \n",
       "4  1434305150458421250  My son wears a mask when he walks to work, som...   \n",
       "\n",
       "                 created_at     author_id  in_reply_to_user_id lang  \\\n",
       "0  2021-09-04T23:59:51.000Z  9.378446e+17                  NaN  NaN   \n",
       "1  2021-09-04T23:59:41.000Z  1.376770e+18                  NaN  NaN   \n",
       "2  2021-09-04T23:59:40.000Z  1.357404e+18                  NaN  NaN   \n",
       "3  2021-09-04T23:59:34.000Z  1.232516e+18                  NaN  NaN   \n",
       "4  2021-09-04T23:59:30.000Z  1.194364e+08                  NaN  NaN   \n",
       "\n",
       "                                              author  entities  \\\n",
       "0  {\"id\":\"937844576672538626\",\"description\":\"A ra...       NaN   \n",
       "1  {\"id\":\"1376769622393819138\",\"description\":\"Γνῶ...       NaN   \n",
       "2  {\"id\":\"1357404114901037056\",\"description\":\"Use...       NaN   \n",
       "3  {\"id\":\"1232515598573129728\",\"description\":\"Ame...       NaN   \n",
       "4  {\"id\":\"119436439\",\"description\":\"internet addi...       NaN   \n",
       "\n",
       "   referenced_tweets  media  geo  \n",
       "0                NaN    NaN  NaN  \n",
       "1                NaN    NaN  NaN  \n",
       "2                NaN    NaN  NaN  \n",
       "3                NaN    NaN  NaN  \n",
       "4                NaN    NaN  NaN  "
      ]
     },
     "execution_count": 8,
     "metadata": {},
     "output_type": "execute_result"
    }
   ],
   "source": [
    "CovidMask2.head()"
   ]
  },
  {
   "cell_type": "code",
   "execution_count": 5,
   "id": "fefef0f2",
   "metadata": {},
   "outputs": [],
   "source": [
    "# removing unwanted columns \n",
    "CovidMask1.drop(['in_reply_to_user_id', 'lang','author_id','author','entities','referenced_tweets','media','geo'], axis=1, inplace=True)\n",
    "CovidMask2.drop(['in_reply_to_user_id', 'lang','author','author_id','entities','referenced_tweets','media','geo'], axis=1, inplace=True)\n",
    "CovidMaskHydrated.drop(['user_id','id','lang','coordinates', 'hashtags','media','urls','favorite_count','in_reply_to_screen_name','in_reply_to_status_id','in_reply_to_user_id','place','possibly_sensitive','quote_id','retweet_count','retweet_id','retweet_screen_name','source','tweet_url','user_created_at','user_default_profile_image','user_description','user_favourites_count','user_followers_count','user_friends_count','user_listed_count','user_location','user_name','user_screen_name','user_statuses_count','user_time_zone','user_urls','user_verified','created_at'], axis=1, inplace=True)\n"
   ]
  },
  {
   "cell_type": "code",
   "execution_count": 6,
   "id": "b050bf22",
   "metadata": {},
   "outputs": [
    {
     "data": {
      "text/html": [
       "<div>\n",
       "<style scoped>\n",
       "    .dataframe tbody tr th:only-of-type {\n",
       "        vertical-align: middle;\n",
       "    }\n",
       "\n",
       "    .dataframe tbody tr th {\n",
       "        vertical-align: top;\n",
       "    }\n",
       "\n",
       "    .dataframe thead th {\n",
       "        text-align: right;\n",
       "    }\n",
       "</style>\n",
       "<table border=\"1\" class=\"dataframe\">\n",
       "  <thead>\n",
       "    <tr style=\"text-align: right;\">\n",
       "      <th></th>\n",
       "      <th>id</th>\n",
       "      <th>text</th>\n",
       "      <th>created_at</th>\n",
       "    </tr>\n",
       "  </thead>\n",
       "  <tbody>\n",
       "    <tr>\n",
       "      <th>0</th>\n",
       "      <td>1302033644282941440</td>\n",
       "      <td>Wear a mask or I will assault you!! (British f...</td>\n",
       "      <td>2020-09-04T23:59:46.000Z</td>\n",
       "    </tr>\n",
       "    <tr>\n",
       "      <th>1</th>\n",
       "      <td>1302033508181970950</td>\n",
       "      <td>@carole_wmajors @SpeakerPelosi @a_fly_guy What...</td>\n",
       "      <td>2020-09-04T23:59:13.000Z</td>\n",
       "    </tr>\n",
       "    <tr>\n",
       "      <th>2</th>\n",
       "      <td>1302033485570473984</td>\n",
       "      <td>@Smeagle1845 @ChewyBB @jobennett78 @grantshapp...</td>\n",
       "      <td>2020-09-04T23:59:08.000Z</td>\n",
       "    </tr>\n",
       "    <tr>\n",
       "      <th>3</th>\n",
       "      <td>1302033412006514688</td>\n",
       "      <td>Dollarama Karen calls security: INTERVIEW with...</td>\n",
       "      <td>2020-09-04T23:58:50.000Z</td>\n",
       "    </tr>\n",
       "    <tr>\n",
       "      <th>4</th>\n",
       "      <td>1302033369627320320</td>\n",
       "      <td>@SanjayFBPEUK @russglos @peterjukes @LesleyABe...</td>\n",
       "      <td>2020-09-04T23:58:40.000Z</td>\n",
       "    </tr>\n",
       "  </tbody>\n",
       "</table>\n",
       "</div>"
      ],
      "text/plain": [
       "                    id                                               text  \\\n",
       "0  1302033644282941440  Wear a mask or I will assault you!! (British f...   \n",
       "1  1302033508181970950  @carole_wmajors @SpeakerPelosi @a_fly_guy What...   \n",
       "2  1302033485570473984  @Smeagle1845 @ChewyBB @jobennett78 @grantshapp...   \n",
       "3  1302033412006514688  Dollarama Karen calls security: INTERVIEW with...   \n",
       "4  1302033369627320320  @SanjayFBPEUK @russglos @peterjukes @LesleyABe...   \n",
       "\n",
       "                 created_at  \n",
       "0  2020-09-04T23:59:46.000Z  \n",
       "1  2020-09-04T23:59:13.000Z  \n",
       "2  2020-09-04T23:59:08.000Z  \n",
       "3  2020-09-04T23:58:50.000Z  \n",
       "4  2020-09-04T23:58:40.000Z  "
      ]
     },
     "execution_count": 6,
     "metadata": {},
     "output_type": "execute_result"
    }
   ],
   "source": [
    "CovidMask1.head()"
   ]
  },
  {
   "cell_type": "code",
   "execution_count": 7,
   "id": "fc8df9b9",
   "metadata": {},
   "outputs": [
    {
     "data": {
      "text/html": [
       "<div>\n",
       "<style scoped>\n",
       "    .dataframe tbody tr th:only-of-type {\n",
       "        vertical-align: middle;\n",
       "    }\n",
       "\n",
       "    .dataframe tbody tr th {\n",
       "        vertical-align: top;\n",
       "    }\n",
       "\n",
       "    .dataframe thead th {\n",
       "        text-align: right;\n",
       "    }\n",
       "</style>\n",
       "<table border=\"1\" class=\"dataframe\">\n",
       "  <thead>\n",
       "    <tr style=\"text-align: right;\">\n",
       "      <th></th>\n",
       "      <th>id</th>\n",
       "      <th>text</th>\n",
       "      <th>created_at</th>\n",
       "    </tr>\n",
       "  </thead>\n",
       "  <tbody>\n",
       "    <tr>\n",
       "      <th>0</th>\n",
       "      <td>1434305238790459397</td>\n",
       "      <td>@nypost The Covid control measures have all fa...</td>\n",
       "      <td>2021-09-04T23:59:51.000Z</td>\n",
       "    </tr>\n",
       "    <tr>\n",
       "      <th>1</th>\n",
       "      <td>1434305195995918337</td>\n",
       "      <td>@Cornell is proof #vaccines and masking is an ...</td>\n",
       "      <td>2021-09-04T23:59:41.000Z</td>\n",
       "    </tr>\n",
       "    <tr>\n",
       "      <th>2</th>\n",
       "      <td>1434305192028086275</td>\n",
       "      <td>Fraught mask-related interactions often come a...</td>\n",
       "      <td>2021-09-04T23:59:40.000Z</td>\n",
       "    </tr>\n",
       "    <tr>\n",
       "      <th>3</th>\n",
       "      <td>1434305166770012161</td>\n",
       "      <td>@OccupyDemocrats The amount of kids dying from...</td>\n",
       "      <td>2021-09-04T23:59:34.000Z</td>\n",
       "    </tr>\n",
       "    <tr>\n",
       "      <th>4</th>\n",
       "      <td>1434305150458421250</td>\n",
       "      <td>My son wears a mask when he walks to work, som...</td>\n",
       "      <td>2021-09-04T23:59:30.000Z</td>\n",
       "    </tr>\n",
       "  </tbody>\n",
       "</table>\n",
       "</div>"
      ],
      "text/plain": [
       "                    id                                               text  \\\n",
       "0  1434305238790459397  @nypost The Covid control measures have all fa...   \n",
       "1  1434305195995918337  @Cornell is proof #vaccines and masking is an ...   \n",
       "2  1434305192028086275  Fraught mask-related interactions often come a...   \n",
       "3  1434305166770012161  @OccupyDemocrats The amount of kids dying from...   \n",
       "4  1434305150458421250  My son wears a mask when he walks to work, som...   \n",
       "\n",
       "                 created_at  \n",
       "0  2021-09-04T23:59:51.000Z  \n",
       "1  2021-09-04T23:59:41.000Z  \n",
       "2  2021-09-04T23:59:40.000Z  \n",
       "3  2021-09-04T23:59:34.000Z  \n",
       "4  2021-09-04T23:59:30.000Z  "
      ]
     },
     "execution_count": 7,
     "metadata": {},
     "output_type": "execute_result"
    }
   ],
   "source": [
    "CovidMask2.head()"
   ]
  },
  {
   "cell_type": "code",
   "execution_count": 13,
   "id": "62dcca12",
   "metadata": {},
   "outputs": [
    {
     "data": {
      "text/html": [
       "<div>\n",
       "<style scoped>\n",
       "    .dataframe tbody tr th:only-of-type {\n",
       "        vertical-align: middle;\n",
       "    }\n",
       "\n",
       "    .dataframe tbody tr th {\n",
       "        vertical-align: top;\n",
       "    }\n",
       "\n",
       "    .dataframe thead th {\n",
       "        text-align: right;\n",
       "    }\n",
       "</style>\n",
       "<table border=\"1\" class=\"dataframe\">\n",
       "  <thead>\n",
       "    <tr style=\"text-align: right;\">\n",
       "      <th></th>\n",
       "      <th>text</th>\n",
       "      <th>Sentiment</th>\n",
       "    </tr>\n",
       "  </thead>\n",
       "  <tbody>\n",
       "    <tr>\n",
       "      <th>0</th>\n",
       "      <td>A reminder that festivals and large concerts a...</td>\n",
       "      <td>0.107143</td>\n",
       "    </tr>\n",
       "    <tr>\n",
       "      <th>1</th>\n",
       "      <td>Come on Ben and Jerry’s https://t.co/RGwIaC9ytr</td>\n",
       "      <td>0.000000</td>\n",
       "    </tr>\n",
       "    <tr>\n",
       "      <th>2</th>\n",
       "      <td>\"Flu strain with 'human pandemic potential' fo...</td>\n",
       "      <td>0.000000</td>\n",
       "    </tr>\n",
       "    <tr>\n",
       "      <th>3</th>\n",
       "      <td>WHO warns \"the worst is yet to come\" as lack o...</td>\n",
       "      <td>-0.500000</td>\n",
       "    </tr>\n",
       "    <tr>\n",
       "      <th>4</th>\n",
       "      <td>Work from home like a boss. Learn how Bloomber...</td>\n",
       "      <td>0.000000</td>\n",
       "    </tr>\n",
       "  </tbody>\n",
       "</table>\n",
       "</div>"
      ],
      "text/plain": [
       "                                                text  Sentiment\n",
       "0  A reminder that festivals and large concerts a...   0.107143\n",
       "1    Come on Ben and Jerry’s https://t.co/RGwIaC9ytr   0.000000\n",
       "2  \"Flu strain with 'human pandemic potential' fo...   0.000000\n",
       "3  WHO warns \"the worst is yet to come\" as lack o...  -0.500000\n",
       "4  Work from home like a boss. Learn how Bloomber...   0.000000"
      ]
     },
     "execution_count": 13,
     "metadata": {},
     "output_type": "execute_result"
    }
   ],
   "source": [
    "CovidMaskHydrated.head()"
   ]
  },
  {
   "cell_type": "code",
   "execution_count": 8,
   "id": "137a2eca",
   "metadata": {},
   "outputs": [],
   "source": [
    "# drop duplicates and NaN\n",
    "CovidMask1.drop_duplicates(keep=False, inplace=True)\n",
    "CovidMask1.dropna(inplace=True)"
   ]
  },
  {
   "cell_type": "code",
   "execution_count": 9,
   "id": "b90934f9",
   "metadata": {},
   "outputs": [],
   "source": [
    "# drop duplicates and NaN\n",
    "CovidMask2.drop_duplicates(keep=False, inplace=True)\n",
    "CovidMask2.dropna(inplace=True)"
   ]
  },
  {
   "cell_type": "code",
   "execution_count": 7,
   "id": "a8c2e316",
   "metadata": {},
   "outputs": [],
   "source": [
    "# drop duplicates and NaN\n",
    "CovidMaskHydrated.drop_duplicates(keep=False, inplace=True)\n",
    "CovidMaskHydrated.dropna(inplace=True)"
   ]
  },
  {
   "cell_type": "code",
   "execution_count": 26,
   "id": "997b53e6",
   "metadata": {},
   "outputs": [
    {
     "name": "stdout",
     "output_type": "stream",
     "text": [
      "Duplicate Rows :\n"
     ]
    },
    {
     "data": {
      "text/html": [
       "<div>\n",
       "<style scoped>\n",
       "    .dataframe tbody tr th:only-of-type {\n",
       "        vertical-align: middle;\n",
       "    }\n",
       "\n",
       "    .dataframe tbody tr th {\n",
       "        vertical-align: top;\n",
       "    }\n",
       "\n",
       "    .dataframe thead th {\n",
       "        text-align: right;\n",
       "    }\n",
       "</style>\n",
       "<table border=\"1\" class=\"dataframe\">\n",
       "  <thead>\n",
       "    <tr style=\"text-align: right;\">\n",
       "      <th></th>\n",
       "      <th>id</th>\n",
       "      <th>text</th>\n",
       "      <th>created_at</th>\n",
       "      <th>cleanText</th>\n",
       "      <th>textLemma</th>\n",
       "    </tr>\n",
       "  </thead>\n",
       "  <tbody>\n",
       "  </tbody>\n",
       "</table>\n",
       "</div>"
      ],
      "text/plain": [
       "Empty DataFrame\n",
       "Columns: [id, text, created_at, cleanText, textLemma]\n",
       "Index: []"
      ]
     },
     "execution_count": 26,
     "metadata": {},
     "output_type": "execute_result"
    }
   ],
   "source": [
    "#duplicate = CovidMask2[CovidMask2.duplicated()]\n",
    " \n",
    "#print(\"Duplicate Rows :\")\n",
    " \n",
    "#duplicate"
   ]
  },
  {
   "cell_type": "code",
   "execution_count": 35,
   "id": "0025a423",
   "metadata": {},
   "outputs": [
    {
     "data": {
      "text/plain": [
       "id             0\n",
       "text           0\n",
       "created_at    15\n",
       "cleanText      0\n",
       "textLemma      0\n",
       "dtype: int64"
      ]
     },
     "execution_count": 35,
     "metadata": {},
     "output_type": "execute_result"
    }
   ],
   "source": [
    "#CovidMask1.isnull().sum()"
   ]
  },
  {
   "cell_type": "code",
   "execution_count": 10,
   "id": "864ae0b9",
   "metadata": {},
   "outputs": [
    {
     "data": {
      "text/plain": [
       "(1666350, 3)"
      ]
     },
     "execution_count": 10,
     "metadata": {},
     "output_type": "execute_result"
    }
   ],
   "source": [
    "CovidMask1.shape"
   ]
  },
  {
   "cell_type": "code",
   "execution_count": 11,
   "id": "ce22337d",
   "metadata": {},
   "outputs": [
    {
     "data": {
      "text/plain": [
       "(992960, 3)"
      ]
     },
     "execution_count": 11,
     "metadata": {},
     "output_type": "execute_result"
    }
   ],
   "source": [
    "CovidMask2.shape"
   ]
  },
  {
   "cell_type": "code",
   "execution_count": 35,
   "id": "41b19b32",
   "metadata": {},
   "outputs": [
    {
     "data": {
      "text/plain": [
       "(1062834, 2)"
      ]
     },
     "execution_count": 35,
     "metadata": {},
     "output_type": "execute_result"
    }
   ],
   "source": [
    "CovidMaskHydrated.shape"
   ]
  },
  {
   "cell_type": "code",
   "execution_count": null,
   "id": "9cf94632",
   "metadata": {},
   "outputs": [],
   "source": [
    "# filter the training dataset on COVID-19 and Face mask related keywords (same as testing dataset)\n",
    "pattern = 'covid19.*mask|mask.*covid19|mask.*covid-19|mask.*covid-19|covid.*mask|mask.*covid|corona.*mask|mask.*corona|mask.*virus|virus.*mask|coronavirus.*mask|mask.*coronavirus|mask.*wuhancoronavirus|wuhancoronavirus.*mask|covid19.*face mask|face mask.*covid19|face mask.*covid-19|face mask.*covid-19|covid.*face mask|face mask.*covid|corona.*face mask|face mask.*corona|face mask.*virus|virus.*face mask|coronavirus.*face mask|face mask.*coronavirus|face mask.*wuhancoronavirus|wuhancoronavirus.*face mask|covid19.*face masks|face masks.*covid19|face masks.*covid-19|face masks.*covid-19|covid.*face masks|face masks.*covid|corona.*face masks|face masks.*corona|face masks.*virus|virus.*face masks|coronavirus.*face masks|face masks.*coronavirus|face masks.*wuhancoronavirus|wuhancoronavirus.*face masks|covid19.*wearamask|wearamask.*covid19|wearamask.*covid-19|wearamask.*covid-19|covid.*wearamask|wearamask.*covid|corona.*wearamask|wearamask.*corona|wearamask.*virus|virus.*wearamask|coronavirus.*wearamask|wearamask.*coronavirus|wearamask.*wuhancoronavirus|wuhancoronavirus.*wearamask|covid19.*face shield|face shield.*covid19|face shield.*covid-19|face shield.*covid-19|covid.*face shield|face shield.*covid|corona.*face shield|face shield.*corona|mask.*virus|virus.*face shield|coronavirus.*face shield|face shield.*coronavirus|face shield.*wuhancoronavirus|wuhancoronavirus.*face shield|covid19.*face cover|face cover.*covid19|face cover.*covid-19|face cover.*covid-19|covid.*face cover|face cover.*covid|corona.*face cover|face cover.*corona|face cover.*virus|virus.*face cover|coronavirus.*face cover|face cover.*coronavirus|face cover.*wuhancoronavirus|wuhancoronavirus.*face cover|covid19.*mask wearing|mask wearing.*covid19|mask wearing.*covid-19|mask wearing.*covid-19|covid.*mask wearing|mask wearing.*covid|corona.*mask wearing|mask wearing.*corona|mask wearing.*virus|virus.*mask wearing|coronavirus.*mask wearing|mask wearing.*coronavirus|mask wearing.*wuhancoronavirus|wuhancoronavirus.*mask wearing|covid19.*masking|masking.*covid19|masking.*covid-19|masking.*covid-19|covid.*masking|masking.*covid|corona.*masking|masking.*corona|masking.*virus|virus.*masking|coronavirus.*masking|masking.*coronavirus|masking.*wuhancoronavirus|wuhancoronavirus.*masking|covid19.*facial cover|facial cover.*covid19|facial cover.*covid-19|facial cover.*covid-19|covid.*facial cover|facial cover.*covid|corona.*facial cover|facial cover.*corona|facial cover.*virus|virus.*facial cover|coronavirus.*facial cover|facial cover.*coronavirus|facial cover.*wuhancoronavirus|wuhancoronavirus.*facial cover|covid19.*face shields|face shields.*covid19|face shields.*covid-19|face shields.*covid-19|covid.*face shields|face shields.*covid|corona.*face shields|face shields.*corona|face shields.*virus|virus.*face shields|coronavirus.*face shields|face shields.*coronavirus|face shields.*wuhancoronavirus|wuhancoronavirus.*face shields|mask|face mask|face masks|wearamask|masking|mask wearing|face cover|face shield|face shields|facial cover|covid|covid19|covid-19|corona|virus|coronavirus|wuhancoronavirus'\n",
    "mask = CovidMaskHydrated['text'].str.contains(pattern, case=False, na=False)\n",
    "CovidMaskHydrated[mask].head()\n"
   ]
  },
  {
   "cell_type": "code",
   "execution_count": 39,
   "id": "3e1005a1",
   "metadata": {},
   "outputs": [],
   "source": [
    "CovidMaskHydrated=CovidMaskHydrated[mask]"
   ]
  },
  {
   "cell_type": "code",
   "execution_count": 9,
   "id": "bbe1220a",
   "metadata": {},
   "outputs": [
    {
     "data": {
      "text/plain": [
       "(25874, 2)"
      ]
     },
     "execution_count": 9,
     "metadata": {},
     "output_type": "execute_result"
    }
   ],
   "source": [
    "CovidMaskHydrated.shape"
   ]
  },
  {
   "cell_type": "code",
   "execution_count": null,
   "id": "c816d9e3",
   "metadata": {},
   "outputs": [],
   "source": [
    "# Lowercase, Removing Symbols, URL Removal, Removing Punctuation, Removing Stopwords, Removing Emoji, Tokenization and Lemmatisation\n",
    "# https://www.kaggle.com/code/hassanhshah/covid-vaccine-sentiment-and-time-series-analysis Retrieved July 2022\n"
   ]
  },
  {
   "cell_type": "code",
   "execution_count": 12,
   "id": "b7cac1d5",
   "metadata": {},
   "outputs": [],
   "source": [
    "# Lowercase\n",
    "CovidMask1['cleanText'] = CovidMask1['text'].str.lower()\n",
    "\n",
    "CovidMask2['cleanText'] = CovidMask2['text'].str.lower()\n",
    "\n",
    "CovidMaskHydrated['cleanText'] = CovidMaskHydrated['text'].str.lower()\n",
    "\n"
   ]
  },
  {
   "cell_type": "code",
   "execution_count": 13,
   "id": "11fa5b58",
   "metadata": {},
   "outputs": [],
   "source": [
    "# Removing Symbols\n",
    "CovidMask1['cleanText'] = CovidMask1['cleanText'].apply(lambda x:re.sub('\\&*[amp]*\\;|gt+', \"\", str(x)))\n",
    "\n",
    "CovidMask2['cleanText'] = CovidMask2['cleanText'].apply(lambda x:re.sub('\\&*[amp]*\\;|gt+', \"\", str(x)))\n",
    "\n",
    "CovidMaskHydrated['cleanText'] = CovidMaskHydrated['cleanText'].apply(lambda x:re.sub('\\&*[amp]*\\;|gt+', \"\", str(x)))\n",
    "\n"
   ]
  },
  {
   "cell_type": "code",
   "execution_count": 14,
   "id": "5005c3f2",
   "metadata": {},
   "outputs": [],
   "source": [
    "# URL Removal\n",
    "CovidMask1['cleanText'] = CovidMask1['cleanText'].apply(lambda x:re.sub(r\"http\\S+\", \"\", x))\n",
    "CovidMask2['cleanText'] = CovidMask2['cleanText'].apply(lambda x:re.sub(r\"http\\S+\", \"\", x))\n",
    "CovidMaskHydrated['cleanText'] = CovidMaskHydrated['cleanText'].apply(lambda x:re.sub(r\"http\\S+\", \"\", x))\n"
   ]
  },
  {
   "cell_type": "code",
   "execution_count": 15,
   "id": "b38db514",
   "metadata": {},
   "outputs": [],
   "source": [
    "# Removing Symbols\n",
    "CovidMask1['cleanText'] = CovidMask1['cleanText'].apply(lambda x:re.sub(\"@[A-Za-z0-9_]+\",\"\", x))\n",
    "\n",
    "CovidMask2['cleanText'] = CovidMask2['cleanText'].apply(lambda x:re.sub(\"@[A-Za-z0-9_]+\",\"\", x))\n",
    "\n",
    "CovidMaskHydrated['cleanText'] = CovidMaskHydrated['cleanText'].apply(lambda x:re.sub(\"@[A-Za-z0-9_]+\",\"\", x))\n",
    "\n"
   ]
  },
  {
   "cell_type": "code",
   "execution_count": 16,
   "id": "25ac7839",
   "metadata": {},
   "outputs": [],
   "source": [
    "# Removing Punctuation \n",
    "punRemoval = string.punctuation\n",
    "def punctuationRemoval(text):\n",
    "    return text.translate(str.maketrans('', '', punRemoval))\n",
    "\n",
    "\n",
    "CovidMask1[\"cleanText\"] = CovidMask1[\"cleanText\"].apply(lambda text: punctuationRemoval(text))\n",
    "CovidMask2[\"cleanText\"] = CovidMask2[\"cleanText\"].apply(lambda text: punctuationRemoval(text))\n",
    "CovidMaskHydrated[\"cleanText\"] = CovidMaskHydrated[\"cleanText\"].apply(lambda text: punctuationRemoval(text))"
   ]
  },
  {
   "cell_type": "code",
   "execution_count": 17,
   "id": "97786c01",
   "metadata": {},
   "outputs": [],
   "source": [
    "# Removing Stopwords \n",
    "\", \".join(stopwords.words('english'))\n",
    "STOPWORDS = set(stopwords.words('english'))\n",
    "def stopwordsRemoval(text):\n",
    "    return \" \".join([word for word in str(text).split() if word not in STOPWORDS])\n",
    "\n",
    "CovidMask1[\"cleanText\"] = CovidMask1[\"cleanText\"].apply(lambda text: stopwordsRemoval(text))\n",
    "CovidMask2[\"cleanText\"] = CovidMask2[\"cleanText\"].apply(lambda text: stopwordsRemoval(text))\n",
    "CovidMaskHydrated[\"cleanText\"] = CovidMaskHydrated[\"cleanText\"].apply(lambda text: stopwordsRemoval(text))\n"
   ]
  },
  {
   "cell_type": "code",
   "execution_count": 18,
   "id": "6b9804ec",
   "metadata": {},
   "outputs": [],
   "source": [
    "# Removing Emoji \n",
    "def emojiRemoval(string):\n",
    "    emoji_pattern = re.compile(\"[\"\n",
    "                               u\"\\U0001F600-\\U0001F64F\"  # emoticons\n",
    "                               u\"\\U0001F300-\\U0001F5FF\"  # symbols & pictographs\n",
    "                               u\"\\U0001F680-\\U0001F6FF\"  # transport & map symbols\n",
    "                               u\"\\U0001F1E0-\\U0001F1FF\"  # flags (iOS)\n",
    "                               u\"\\U00002500-\\U00002BEF\"  # chinese char\n",
    "                               u\"\\U00002702-\\U000027B0\"\n",
    "                               u\"\\U00002702-\\U000027B0\"\n",
    "                               u\"\\U000024C2-\\U0001F251\"\n",
    "                               u\"\\U0001f926-\\U0001f937\"\n",
    "                               u\"\\U00010000-\\U0010ffff\"\n",
    "                               u\"\\u2640-\\u2642\"\n",
    "                               u\"\\u2600-\\u2B55\"\n",
    "                               u\"\\u200d\"\n",
    "                               u\"\\u23cf\"\n",
    "                               u\"\\u23e9\"\n",
    "                               u\"\\u231a\"\n",
    "                               u\"\\ufe0f\"  # dingbats\n",
    "                               u\"\\u3030\"\n",
    "                               \"]+\", flags=re.UNICODE)\n",
    "    return emoji_pattern.sub(r'', string)\n",
    "\n",
    "CovidMask1[\"cleanText\"] = CovidMask1[\"cleanText\"].apply(str)\n",
    "CovidMask1[\"cleanText\"] = CovidMask1[\"cleanText\"].apply(emojiRemoval)\n",
    "CovidMask2[\"cleanText\"] = CovidMask2[\"cleanText\"].apply(str)\n",
    "CovidMask2[\"cleanText\"] = CovidMask2[\"cleanText\"].apply(emojiRemoval)\n",
    "CovidMaskHydrated[\"cleanText\"] = CovidMaskHydrated[\"cleanText\"].apply(str)\n",
    "CovidMaskHydrated[\"cleanText\"] = CovidMaskHydrated[\"cleanText\"].apply(emojiRemoval)"
   ]
  },
  {
   "cell_type": "code",
   "execution_count": 19,
   "id": "08877694",
   "metadata": {},
   "outputs": [],
   "source": [
    "# Tokenization and Lemmatisation\n",
    "def textTokenization(text):\n",
    "    text = re.split('\\W+', text)\n",
    "    return text\n",
    "CovidMask1['token'] = CovidMask1['cleanText'].apply(lambda x: textTokenization(x.lower()))\n",
    "CovidMask2['token'] = CovidMask2['cleanText'].apply(lambda x: textTokenization(x.lower()))\n",
    "CovidMaskHydrated['token'] = CovidMaskHydrated['cleanText'].apply(lambda x: textTokenization(x.lower()))\n",
    "\n",
    "\n",
    "\n",
    "wn = nltk.WordNetLemmatizer()\n",
    "def textLemmatizer(text):\n",
    "    text = [wn.lemmatize(word) for word in text]\n",
    "    return text\n",
    "CovidMask1['lemma'] = CovidMask1['token'].apply(lambda x: textLemmatizer(x))\n",
    "CovidMask2['lemma'] = CovidMask2['token'].apply(lambda x: textLemmatizer(x))\n",
    "CovidMaskHydrated['lemma'] = CovidMaskHydrated['token'].apply(lambda x: textLemmatizer(x))"
   ]
  },
  {
   "cell_type": "code",
   "execution_count": 20,
   "id": "56855264",
   "metadata": {},
   "outputs": [],
   "source": [
    "# rejoin the Tokenized Lemmatisation text\n",
    "# Source: https://stackoverflow.com/questions/46096363/nltk-reconstruct-sentence-from-tokens Retrieved July 2022 \n",
    "def rejoin(token):\n",
    "    \n",
    "    return ( \" \".join(token))\n",
    "\n",
    "CovidMask1['textLemma'] = CovidMask1.apply(lambda x: rejoin(x['lemma']), axis=1)\n",
    "CovidMask2['textLemma'] = CovidMask2.apply(lambda x: rejoin(x['lemma']), axis=1)\n",
    "CovidMaskHydrated['textLemma'] = CovidMaskHydrated.apply(lambda x: rejoin(x['lemma']), axis=1)"
   ]
  },
  {
   "cell_type": "code",
   "execution_count": 21,
   "id": "01f84d25",
   "metadata": {},
   "outputs": [],
   "source": [
    "# drop lemma and token column (unwanted columns)\n",
    "CovidMask1.drop(['lemma', 'token'], axis=1, inplace=True)\n",
    "CovidMask2.drop(['lemma', 'token'], axis=1, inplace=True)\n",
    "CovidMaskHydrated.drop(['lemma', 'token'], axis=1, inplace=True)"
   ]
  },
  {
   "cell_type": "code",
   "execution_count": 29,
   "id": "2a951919",
   "metadata": {},
   "outputs": [],
   "source": [
    "# convert created_at to month name\n",
    "CovidMask1.created_at = pd.to_datetime(CovidMask1.created_at, format='%Y-%m-%dT%H:%M:%S.000%z',errors='coerce')\n",
    "CovidMask1['created_at']= pd.to_datetime(CovidMask1['created_at'])\n",
    "CovidMask1['created_at']=CovidMask1['created_at'].dt.month_name().str[:3]"
   ]
  },
  {
   "cell_type": "code",
   "execution_count": 30,
   "id": "5bbf4b00",
   "metadata": {},
   "outputs": [],
   "source": [
    "# convert created_at to month name\n",
    "CovidMask2.created_at = pd.to_datetime(CovidMask2.created_at, format='%Y-%m-%dT%H:%M:%S.000%z',errors='coerce')\n",
    "CovidMask2['created_at']= pd.to_datetime(CovidMask2['created_at'])\n",
    "CovidMask2['created_at']=CovidMask2['created_at'].dt.month_name().str[:3]"
   ]
  },
  {
   "cell_type": "code",
   "execution_count": 42,
   "id": "3225bc5e",
   "metadata": {},
   "outputs": [],
   "source": [
    "# saving all data frames to CSV files\n",
    "CovidMask1.to_csv('CovidMaskPeriod1Pre-processed.csv', mode='w', encoding='utf-8', index=False, line_terminator='\\n')\n",
    "CovidMask2.to_csv('CovidMaskPeriod2Pre-processed.csv', mode='w', encoding='utf-8', index=False, line_terminator='\\n')\n",
    "CovidMaskHydrated.to_csv('CovidMaskTrainingDatasetPre-processed.csv', mode='w', encoding='utf-8', index=False, line_terminator='\\n')\n"
   ]
  },
  {
   "cell_type": "code",
   "execution_count": null,
   "id": "e0c561c3",
   "metadata": {},
   "outputs": [],
   "source": []
  }
 ],
 "metadata": {
  "kernelspec": {
   "display_name": "Python 3",
   "language": "python",
   "name": "python3"
  },
  "language_info": {
   "codemirror_mode": {
    "name": "ipython",
    "version": 3
   },
   "file_extension": ".py",
   "mimetype": "text/x-python",
   "name": "python",
   "nbconvert_exporter": "python",
   "pygments_lexer": "ipython3",
   "version": "3.8.8"
  }
 },
 "nbformat": 4,
 "nbformat_minor": 5
}
